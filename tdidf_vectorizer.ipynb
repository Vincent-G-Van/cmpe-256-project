{
 "cells": [
  {
   "cell_type": "code",
   "execution_count": 253,
   "id": "aeb811ec-f3f3-4b5d-9a4d-f70ed10b4e04",
   "metadata": {},
   "outputs": [],
   "source": [
    "# Import all required libraries\n",
    "import numpy as np\n",
    "import pandas as pd\n",
    "from tqdm import tqdm\n",
    "from sklearn.feature_extraction.text import TfidfVectorizer\n",
    "from sklearn.metrics.pairwise import cosine_similarity"
   ]
  },
  {
   "cell_type": "code",
   "execution_count": 255,
   "id": "7e823622-0746-41a1-a1f1-b4c049c9e416",
   "metadata": {},
   "outputs": [],
   "source": [
    "# Load data\n",
    "news_data2 = pd.read_csv('sentiment_news_data.csv')"
   ]
  },
  {
   "cell_type": "code",
   "execution_count": 257,
   "id": "6b54f3e9-d2a0-43f4-9e5f-310800086a5c",
   "metadata": {},
   "outputs": [],
   "source": [
    "# for empty strings replace with NaN\n",
    "news_data2 = news_data2.fillna('')"
   ]
  },
  {
   "cell_type": "code",
   "execution_count": 259,
   "id": "c565861f-93c7-4f46-b2cd-3551820c1748",
   "metadata": {},
   "outputs": [
    {
     "name": "stdout",
     "output_type": "stream",
     "text": [
      "[['1-May-18', 'north korea open sky south korean medium report', 0.0], ['2-May-18', 'got fear trump threatens declassify fbi justice department file surveillance abuse clinton email probe doj slow release congress', -0.3]]\n",
      "\n",
      "['1-May-18', 'mueller probe aint ending anytime soon', 0.0]\n"
     ]
    }
   ],
   "source": [
    "# Extract dates, headlines, and sentiments\n",
    "all_entries = []\n",
    "for i in range(1, 26):  # Columns: Top1 to Top25\n",
    "    col = f'Top{i}'\n",
    "    col2 = f'Sen_Top{i}'\n",
    "    for j in range(len(news_data2[col])):\n",
    "        all_entries.append([news_data2['Date'][j], news_data2[col][j], news_data2[col2][j]])\n",
    "\n",
    "print(f'{all_entries[:2]}')\n",
    "print(f'\\n{all_entries[1859]}')"
   ]
  },
  {
   "cell_type": "code",
   "execution_count": 261,
   "id": "112d462f-d54d-499b-a7e7-e6497a24dc02",
   "metadata": {},
   "outputs": [],
   "source": [
    "# Convert into DataFrame\n",
    "database = pd.DataFrame(data={\n",
    "    'Date': [row[0] for row in all_entries],\n",
    "    'News_Headlines': [row[1] for row in all_entries],\n",
    "    'Sentiment': [row[2] for row in all_entries]\n",
    "})"
   ]
  },
  {
   "cell_type": "code",
   "execution_count": 325,
   "id": "820f3cb0-194a-4c4a-8f6f-1f65c58d1f1e",
   "metadata": {},
   "outputs": [
    {
     "data": {
      "text/plain": [
       "(46475, 35975)"
      ]
     },
     "execution_count": 325,
     "metadata": {},
     "output_type": "execute_result"
    }
   ],
   "source": [
    "# TFIDF Vectorizer\n",
    "# norm='l2': Normalizes results of TF-IDF vectors using L2 normalization \n",
    "# scales vectors so that their Euclidean (L2) norm is 1\n",
    "# beneficial when using cosine similarity\n",
    "# other options not necessary for TfidfVectorizer since the data has already been token normalized\n",
    "vectorizer = TfidfVectorizer(norm='l2')\n",
    "newsValues = database['News_Headlines'].values\n",
    "mtx = vectorizer.fit_transform(newsValues)\n",
    "mtx.shape"
   ]
  },
  {
   "cell_type": "code",
   "execution_count": 359,
   "id": "cefbf4df-3b21-4447-9d30-2b95dc154167",
   "metadata": {},
   "outputs": [],
   "source": [
    "# Vector search using cosine similarity\n",
    "def vector_search(query, vectorizer, mtx, database, k=5):\n",
    "    temp = cosine_similarity(mtx, vectorizer.transform([query])).flatten()\n",
    "    new = temp.argsort()[-k:][::-1]\n",
    "\n",
    "    results = []\n",
    "    for i in new:\n",
    "        date = database.iloc[i]['Date']\n",
    "        headline = database.iloc[i]['News_Headlines']\n",
    "        sentiment = database.iloc[i]['Sentiment']\n",
    "        score = temp[i]\n",
    "        results.append((i, date, headline, score, sentiment))\n",
    "\n",
    "    print(f'\\n*** Results for: \"{query}\" ***')\n",
    "    for result in results:\n",
    "        print(f'Similarity Score: {result[3]:.4f}| Date: {result[1]} | {result[2]} | Sentiment value: {result[4]:.1f} | Index: {result[0]}')\n",
    "\n",
    "    return results"
   ]
  },
  {
   "cell_type": "code",
   "execution_count": 355,
   "id": "22d15cf2-406b-45db-a2f7-0e9b52d64a85",
   "metadata": {},
   "outputs": [
    {
     "name": "stdout",
     "output_type": "stream",
     "text": [
      "\n",
      "*** Results for: \"China Bought Russia\" ***\n",
      "Similarity Score: 0.5682| Date: 1-May-22 | serbia showcase artillery bought russia china | Sentiment value: 0.0 | Index: 5212\n",
      "Similarity Score: 0.5341| Date: 6-Jan-20 | china bought russia s400 missile taiwan need sam | Sentiment value: 0.0 | Index: 43374\n",
      "Similarity Score: 0.3776| Date: 25-Apr-22 | official elon musk bought twitter 44 billion | Sentiment value: 0.0 | Index: 18219\n",
      "Similarity Score: 0.3683| Date: 10-Feb-22 | china bought none 200 billion promised u phase 1 trade deal study reveals | Sentiment value: 0.0 | Index: 27440\n",
      "Similarity Score: 0.3497| Date: 23-Sep-18 | man dy boat bought capsizes journey home | Sentiment value: 0.0 | Index: 33609\n",
      "Similarity Score: 0.3411| Date: 12-Sep-18 | russia china trust | Sentiment value: 0.0 | Index: 5713\n",
      "Similarity Score: 0.3384| Date: 31-Mar-22 | india bought russian oil discount 35 per barrel | Sentiment value: 0.0 | Index: 46079\n",
      "Similarity Score: 0.2928| Date: 5-Jun-21 | investor bought block land 21 reveals best build rather buy home | Sentiment value: 1.0 | Index: 40203\n",
      "Similarity Score: 0.2922| Date: 19-Jun-19 | french bought sothebys there questioning dominance luxury economy | Sentiment value: 0.0 | Index: 28301\n",
      "Similarity Score: 0.2917| Date: 23-Nov-21 | spanish renter declaring war american investor bought apartment neighborhood | Sentiment value: 0.0 | Index: 29220\n",
      "\n",
      "*** Results for: \"America\" ***\n",
      "Similarity Score: 0.8279| Date: 4-May-20 | china america | Sentiment value: 0.0 | Index: 23044\n",
      "Similarity Score: 0.7052| Date: 15-Feb-23 | violence america | Sentiment value: 0.0 | Index: 37105\n",
      "Similarity Score: 0.6621| Date: 3-Nov-21 | problem america | Sentiment value: 0.0 | Index: 29200\n",
      "Similarity Score: 0.5834| Date: 2-Jul-21 | america lose china | Sentiment value: 0.0 | Index: 4909\n",
      "Similarity Score: 0.5225| Date: 16-Sep-19 | america always win | Sentiment value: 0.8 | Index: 37685\n",
      "Similarity Score: 0.5087| Date: 14-Apr-23 | cpi america | Sentiment value: 0.0 | Index: 14855\n",
      "Similarity Score: 0.5036| Date: 18-Jun-19 | america vacuum un | Sentiment value: -0.0 | Index: 22723\n",
      "Similarity Score: 0.4932| Date: 6-Jun-22 | america endgame war ukraine | Sentiment value: 0.0 | Index: 12684\n",
      "Similarity Score: 0.4914| Date: 8-May-22 | every indian know america | Sentiment value: 0.0 | Index: 1501\n",
      "Similarity Score: 0.4900| Date: 9-Feb-19 | america ready single president | Sentiment value: 0.1 | Index: 11440\n",
      "\n",
      "*** Results for: \"Trump\" ***\n",
      "Similarity Score: 0.5851| Date: 2-Sep-20 | trump right | Sentiment value: 0.3 | Index: 17588\n",
      "Similarity Score: 0.4564| Date: 21-Apr-20 | trump company asks trump administration hotel relief | Sentiment value: 0.0 | Index: 4441\n",
      "Similarity Score: 0.4325| Date: 9-Jun-18 | trudeau trump continue fight trade trump leaf g7 | Sentiment value: 0.0 | Index: 16771\n",
      "Similarity Score: 0.4274| Date: 23-Jun-18 | great news trump | Sentiment value: 0.8 | Index: 22362\n",
      "Similarity Score: 0.4137| Date: 27-Dec-20 | trump pardon | Sentiment value: 0.0 | Index: 15876\n",
      "Similarity Score: 0.4041| Date: 15-Aug-18 | proof trump know agent set russian meeting trump jr | Sentiment value: 0.0 | Index: 14980\n",
      "Similarity Score: 0.4039| Date: 19-Dec-18 | mick mulvaney chief staff let trump trump | Sentiment value: 0.0 | Index: 18824\n",
      "Similarity Score: 0.4033| Date: 5-Apr-20 | cult trump | Sentiment value: 0.0 | Index: 24874\n",
      "Similarity Score: 0.3881| Date: 4-Oct-18 | donald trump comment | Sentiment value: 0.0 | Index: 33620\n",
      "Similarity Score: 0.3842| Date: 20-Jul-19 | donald trump given | Sentiment value: 0.0 | Index: 26473\n",
      "\n",
      "*** Results for: \"electric\" ***\n",
      "Similarity Score: 0.5938| Date: 21-Apr-22 | chinese electric vehicle fire | Sentiment value: 0.0 | Index: 46100\n",
      "Similarity Score: 0.4499| Date: 15-Jul-18 | china make electric car every country combined | Sentiment value: 0.0 | Index: 1936\n",
      "Similarity Score: 0.4350| Date: 4-May-18 | chinese city turned 16000 bus electric | Sentiment value: 0.0 | Index: 13016\n",
      "Similarity Score: 0.4283| Date: 31-Mar-20 | electric vehicle majority car sold norway | Sentiment value: 0.0 | Index: 23010\n",
      "Similarity Score: 0.4219| Date: 8-Aug-21 | biden set goal amp rule electric vehicle | Sentiment value: 0.0 | Index: 14241\n",
      "Similarity Score: 0.4216| Date: 26-Jan-21 | biden want replace government fleet electric vehicle | Sentiment value: 0.0 | Index: 12188\n",
      "Similarity Score: 0.4136| Date: 20-Feb-19 | poland build homegrown electric car new factory | Sentiment value: 0.1 | Index: 11451\n",
      "Similarity Score: 0.4007| Date: 6-Nov-18 | small electric car designed ebike company | Sentiment value: -0.2 | Index: 26217\n",
      "Similarity Score: 0.3998| Date: 4-Jul-22 | amazon turn electric cargo bike city delivery | Sentiment value: 0.0 | Index: 12712\n",
      "Similarity Score: 0.3932| Date: 31-Mar-19 | labor proposes tax break business buy electric car | Sentiment value: 0.0 | Index: 18926\n"
     ]
    }
   ],
   "source": [
    "# Example Usage for multiple queries\n",
    "queries = ['China Bought Russia', 'America', 'Trump', 'electric']\n",
    "\n",
    "# Loop through each query and get the results\n",
    "for query in queries:\n",
    "    results = vector_search(query, vectorizer, mtx, database, k=10)"
   ]
  },
  {
   "cell_type": "code",
   "execution_count": null,
   "id": "a1a5ce85-e85b-46d2-b5ed-d310ff58ba0d",
   "metadata": {},
   "outputs": [],
   "source": []
  }
 ],
 "metadata": {
  "kernelspec": {
   "display_name": "Python 3 (ipykernel)",
   "language": "python",
   "name": "python3"
  },
  "language_info": {
   "codemirror_mode": {
    "name": "ipython",
    "version": 3
   },
   "file_extension": ".py",
   "mimetype": "text/x-python",
   "name": "python",
   "nbconvert_exporter": "python",
   "pygments_lexer": "ipython3",
   "version": "3.12.4"
  }
 },
 "nbformat": 4,
 "nbformat_minor": 5
}
