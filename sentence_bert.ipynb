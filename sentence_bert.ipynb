{
 "cells": [
  {
   "cell_type": "code",
   "execution_count": 1,
   "metadata": {},
   "outputs": [],
   "source": [
    "# sentence bert or SBERT, this is a natural language processing (NLP) to create sentence embedding(s)."
   ]
  },
  {
   "cell_type": "code",
   "execution_count": 2,
   "metadata": {},
   "outputs": [
    {
     "name": "stdout",
     "output_type": "stream",
     "text": [
      "Requirement already satisfied: sentence-transformers in c:\\users\\vanvi\\appdata\\local\\programs\\python\\python313\\lib\\site-packages (3.4.1)\n",
      "Requirement already satisfied: transformers<5.0.0,>=4.41.0 in c:\\users\\vanvi\\appdata\\local\\programs\\python\\python313\\lib\\site-packages (from sentence-transformers) (4.49.0)\n",
      "Requirement already satisfied: tqdm in c:\\users\\vanvi\\appdata\\local\\programs\\python\\python313\\lib\\site-packages (from sentence-transformers) (4.67.1)\n",
      "Requirement already satisfied: torch>=1.11.0 in c:\\users\\vanvi\\appdata\\local\\programs\\python\\python313\\lib\\site-packages (from sentence-transformers) (2.6.0)\n",
      "Requirement already satisfied: scikit-learn in c:\\users\\vanvi\\appdata\\local\\programs\\python\\python313\\lib\\site-packages (from sentence-transformers) (1.6.1)\n",
      "Requirement already satisfied: scipy in c:\\users\\vanvi\\appdata\\local\\programs\\python\\python313\\lib\\site-packages (from sentence-transformers) (1.15.2)\n",
      "Requirement already satisfied: huggingface-hub>=0.20.0 in c:\\users\\vanvi\\appdata\\local\\programs\\python\\python313\\lib\\site-packages (from sentence-transformers) (0.28.1)\n",
      "Requirement already satisfied: Pillow in c:\\users\\vanvi\\appdata\\local\\programs\\python\\python313\\lib\\site-packages (from sentence-transformers) (11.1.0)\n",
      "Requirement already satisfied: filelock in c:\\users\\vanvi\\appdata\\local\\programs\\python\\python313\\lib\\site-packages (from huggingface-hub>=0.20.0->sentence-transformers) (3.17.0)\n",
      "Requirement already satisfied: fsspec>=2023.5.0 in c:\\users\\vanvi\\appdata\\local\\programs\\python\\python313\\lib\\site-packages (from huggingface-hub>=0.20.0->sentence-transformers) (2025.2.0)\n",
      "Requirement already satisfied: packaging>=20.9 in c:\\users\\vanvi\\appdata\\roaming\\python\\python313\\site-packages (from huggingface-hub>=0.20.0->sentence-transformers) (24.2)\n",
      "Requirement already satisfied: pyyaml>=5.1 in c:\\users\\vanvi\\appdata\\local\\programs\\python\\python313\\lib\\site-packages (from huggingface-hub>=0.20.0->sentence-transformers) (6.0.2)\n",
      "Requirement already satisfied: requests in c:\\users\\vanvi\\appdata\\local\\programs\\python\\python313\\lib\\site-packages (from huggingface-hub>=0.20.0->sentence-transformers) (2.32.3)\n",
      "Requirement already satisfied: typing-extensions>=3.7.4.3 in c:\\users\\vanvi\\appdata\\local\\programs\\python\\python313\\lib\\site-packages (from huggingface-hub>=0.20.0->sentence-transformers) (4.12.2)\n",
      "Requirement already satisfied: networkx in c:\\users\\vanvi\\appdata\\local\\programs\\python\\python313\\lib\\site-packages (from torch>=1.11.0->sentence-transformers) (3.4.2)\n",
      "Requirement already satisfied: jinja2 in c:\\users\\vanvi\\appdata\\local\\programs\\python\\python313\\lib\\site-packages (from torch>=1.11.0->sentence-transformers) (3.1.5)\n",
      "Requirement already satisfied: setuptools in c:\\users\\vanvi\\appdata\\local\\programs\\python\\python313\\lib\\site-packages (from torch>=1.11.0->sentence-transformers) (75.8.0)\n",
      "Requirement already satisfied: sympy==1.13.1 in c:\\users\\vanvi\\appdata\\local\\programs\\python\\python313\\lib\\site-packages (from torch>=1.11.0->sentence-transformers) (1.13.1)\n",
      "Requirement already satisfied: mpmath<1.4,>=1.1.0 in c:\\users\\vanvi\\appdata\\local\\programs\\python\\python313\\lib\\site-packages (from sympy==1.13.1->torch>=1.11.0->sentence-transformers) (1.3.0)\n",
      "Requirement already satisfied: colorama in c:\\users\\vanvi\\appdata\\roaming\\python\\python313\\site-packages (from tqdm->sentence-transformers) (0.4.6)\n",
      "Requirement already satisfied: numpy>=1.17 in c:\\users\\vanvi\\appdata\\local\\programs\\python\\python313\\lib\\site-packages (from transformers<5.0.0,>=4.41.0->sentence-transformers) (2.2.3)\n",
      "Requirement already satisfied: regex!=2019.12.17 in c:\\users\\vanvi\\appdata\\local\\programs\\python\\python313\\lib\\site-packages (from transformers<5.0.0,>=4.41.0->sentence-transformers) (2024.11.6)\n",
      "Requirement already satisfied: tokenizers<0.22,>=0.21 in c:\\users\\vanvi\\appdata\\local\\programs\\python\\python313\\lib\\site-packages (from transformers<5.0.0,>=4.41.0->sentence-transformers) (0.21.0)\n",
      "Requirement already satisfied: safetensors>=0.4.1 in c:\\users\\vanvi\\appdata\\local\\programs\\python\\python313\\lib\\site-packages (from transformers<5.0.0,>=4.41.0->sentence-transformers) (0.5.2)\n",
      "Requirement already satisfied: joblib>=1.2.0 in c:\\users\\vanvi\\appdata\\local\\programs\\python\\python313\\lib\\site-packages (from scikit-learn->sentence-transformers) (1.4.2)\n",
      "Requirement already satisfied: threadpoolctl>=3.1.0 in c:\\users\\vanvi\\appdata\\local\\programs\\python\\python313\\lib\\site-packages (from scikit-learn->sentence-transformers) (3.5.0)\n",
      "Requirement already satisfied: MarkupSafe>=2.0 in c:\\users\\vanvi\\appdata\\local\\programs\\python\\python313\\lib\\site-packages (from jinja2->torch>=1.11.0->sentence-transformers) (3.0.2)\n",
      "Requirement already satisfied: charset-normalizer<4,>=2 in c:\\users\\vanvi\\appdata\\local\\programs\\python\\python313\\lib\\site-packages (from requests->huggingface-hub>=0.20.0->sentence-transformers) (3.4.1)\n",
      "Requirement already satisfied: idna<4,>=2.5 in c:\\users\\vanvi\\appdata\\local\\programs\\python\\python313\\lib\\site-packages (from requests->huggingface-hub>=0.20.0->sentence-transformers) (3.10)\n",
      "Requirement already satisfied: urllib3<3,>=1.21.1 in c:\\users\\vanvi\\appdata\\local\\programs\\python\\python313\\lib\\site-packages (from requests->huggingface-hub>=0.20.0->sentence-transformers) (2.3.0)\n",
      "Requirement already satisfied: certifi>=2017.4.17 in c:\\users\\vanvi\\appdata\\local\\programs\\python\\python313\\lib\\site-packages (from requests->huggingface-hub>=0.20.0->sentence-transformers) (2025.1.31)\n"
     ]
    }
   ],
   "source": [
    "# install\n",
    "!pip install sentence-transformers"
   ]
  },
  {
   "cell_type": "code",
   "execution_count": 3,
   "metadata": {},
   "outputs": [
    {
     "name": "stderr",
     "output_type": "stream",
     "text": [
      "c:\\Users\\vanvi\\AppData\\Local\\Programs\\Python\\Python313\\Lib\\site-packages\\tqdm\\auto.py:21: TqdmWarning: IProgress not found. Please update jupyter and ipywidgets. See https://ipywidgets.readthedocs.io/en/stable/user_install.html\n",
      "  from .autonotebook import tqdm as notebook_tqdm\n"
     ]
    }
   ],
   "source": [
    "# import\n",
    "from sentence_transformers import SentenceTransformer, util\n",
    "import pandas as pd\n",
    "import numpy as np"
   ]
  },
  {
   "cell_type": "code",
   "execution_count": 4,
   "metadata": {},
   "outputs": [],
   "source": [
    "# load in news data\n",
    "news_data2 = pd.read_csv('sentiment_news_data.csv')"
   ]
  },
  {
   "cell_type": "code",
   "execution_count": 5,
   "metadata": {},
   "outputs": [
    {
     "name": "stdout",
     "output_type": "stream",
     "text": [
      "46475\n",
      "north korea open sky south korean medium report\n",
      "0.0\n",
      "got fear trump threatens declassify fbi justice department file surveillance abuse clinton email probe doj slow release congress\n",
      "-0.3\n"
     ]
    }
   ],
   "source": [
    "test = True\n",
    "\n",
    "# list to store all entries\n",
    "all_entries = []\n",
    "\n",
    "# loop and add entry/entries to the list\n",
    "#for col in [f'Top{i}' for i in range(1, 26)]:\n",
    "for i in range(1, 26):\n",
    "    # get top 1 to 25\n",
    "    col  = f'Top{i}'\n",
    "    col2 = f'Sen_Top{i}'\n",
    "    col_data = news_data2[col]\n",
    "    col_data2 = news_data2[col2]\n",
    "    #for item in col_data:\n",
    "    for j in range(len(col_data)):\n",
    "        #all_entries.append([item]) \n",
    "        #all_entries.append([item, col_data2])\n",
    "        all_entries.append([col_data[j], col_data2[j]])\n",
    "\n",
    "\n",
    "if test:\n",
    "    print(len(all_entries))\n",
    "    print(all_entries[0][0])\n",
    "    print(all_entries[0][1])\n",
    "    print(all_entries[1][0])\n",
    "    print(all_entries[1][1])"
   ]
  },
  {
   "cell_type": "code",
   "execution_count": 6,
   "metadata": {},
   "outputs": [],
   "source": [
    "# may need to enable developer mode"
   ]
  },
  {
   "attachments": {
    "image.png": {
     "image/png": "[encoded data removed]"
    }
   },
   "cell_type": "markdown",
   "metadata": {},
   "source": [
    "![image.png](attachment:image.png)"
   ]
  },
  {
   "cell_type": "code",
   "execution_count": 12,
   "metadata": {},
   "outputs": [],
   "source": [
    "# setup model\n",
    "\n",
    "# this model can be used for semantic searches\n",
    "model = SentenceTransformer('all-MiniLM-L6-v2')\n",
    "all_entries2 = [str(entry[0]) for entry in all_entries]\n",
    "all_embed = model.encode(all_entries2)"
   ]
  },
  {
   "cell_type": "code",
   "execution_count": 13,
   "metadata": {},
   "outputs": [],
   "source": [
    "# save file\n",
    "\n",
    "np.save('all_embed.npy', all_embed)"
   ]
  },
  {
   "cell_type": "code",
   "execution_count": 15,
   "metadata": {},
   "outputs": [
    {
     "name": "stdout",
     "output_type": "stream",
     "text": [
      "i                 : 0\n",
      "idx               : 5713\n",
      "all_entries2[idx] : russia china trust\n",
      "cos_score[idx]    : 0.7684453\n",
      "\n",
      "\n",
      "i                 : 1\n",
      "idx               : 9071\n",
      "all_entries2[idx] : china russia forging new world order\n",
      "cos_score[idx]    : 0.69577396\n",
      "\n",
      "\n",
      "i                 : 2\n",
      "idx               : 43374\n",
      "all_entries2[idx] : china bought russia s400 missile taiwan need sam\n",
      "cos_score[idx]    : 0.64861387\n",
      "\n",
      "\n",
      "i                 : 3\n",
      "idx               : 5212\n",
      "all_entries2[idx] : serbia showcase artillery bought russia china\n",
      "cos_score[idx]    : 0.6355673\n",
      "\n",
      "\n",
      "i                 : 4\n",
      "idx               : 22211\n",
      "all_entries2[idx] : u see chinese company helping russia ukraine effortsource\n",
      "cos_score[idx]    : 0.63167065\n",
      "\n",
      "\n",
      "i                 : 5\n",
      "idx               : 33444\n",
      "all_entries2[idx] : russia could become china economic colony cia director say\n",
      "cos_score[idx]    : 0.6267494\n",
      "\n",
      "\n",
      "i                 : 6\n",
      "idx               : 12946\n",
      "all_entries2[idx] : china reportedly negotiating russia supply kamikaze drone\n",
      "cos_score[idx]    : 0.626245\n",
      "\n",
      "\n",
      "i                 : 7\n",
      "idx               : 19363\n",
      "all_entries2[idx] : china decline join armscontrol talk u russia\n",
      "cos_score[idx]    : 0.62385446\n",
      "\n",
      "\n",
      "i                 : 8\n",
      "idx               : 12908\n",
      "all_entries2[idx] : russia aircraft carrier fall apart russian want undo shady ship deal china 25 year ago\n",
      "cos_score[idx]    : 0.6231338\n",
      "\n",
      "\n",
      "i                 : 9\n",
      "idx               : 31275\n",
      "all_entries2[idx] : china india buy russian oil blunting western sanction\n",
      "cos_score[idx]    : 0.621534\n",
      "\n",
      "\n"
     ]
    }
   ],
   "source": [
    "# sentence for test\n",
    "one = \"China Bought Russia\"\n",
    "\n",
    "# encode new test sentence\n",
    "one_embed = model.encode(one)\n",
    "\n",
    "# use cosine\n",
    "cos_score = util.cos_sim(one_embed, all_embed)\n",
    "\n",
    "# fix from 2D to 1D and remove NaN items\n",
    "cos_score = np.nan_to_num(cos_score)\n",
    "cos_score = cos_score.flatten()\n",
    "\n",
    "# setup range\n",
    "ran = 10\n",
    "\n",
    "# return search range\n",
    "search_idx = np.argsort(cos_score)[::-1][:ran]\n",
    "\n",
    "for i, idx in enumerate(search_idx):\n",
    "    print(\"i                 : \" + str(i))\n",
    "    print(\"idx               : \" + str(idx))\n",
    "    print(\"all_entries2[idx] : \" + str(all_entries2[idx]))\n",
    "    print(\"cos_score[idx]    : \" + str(cos_score[idx]))\n",
    "    print(\"\\n\")\n"
   ]
  },
  {
   "cell_type": "code",
   "execution_count": 16,
   "metadata": {},
   "outputs": [],
   "source": [
    "# function sent_bert\n",
    "# input(s)\n",
    "#  - main   : array with multiple strings\n",
    "#  - query  : array with 1 string\n",
    "#  - res    : int\n",
    "# return(s)\n",
    "#  - array (size of res) (from highest to lowest score)\n",
    "\n",
    "# compute sentence bert score among the data samples\n",
    "def sent_bert(main, query, res, file = None):\n",
    "    # this model can be used for semantic searches\n",
    "    model = SentenceTransformer('all-MiniLM-L6-v2')\n",
    "\n",
    "    if file == None:\n",
    "        all_entries2 = [entry[0] for entry in main]\n",
    "        all_embed = model.encode(all_entries2)\n",
    "    else:\n",
    "        all_embed = np.load(file)\n",
    "        all_entries2 = [entry[0] for entry in main]\n",
    "\n",
    "    # encode new test sentence\n",
    "    one_embed = model.encode(query)\n",
    "\n",
    "    # use cosine\n",
    "    cos_score = util.cos_sim(one_embed, all_embed)\n",
    "\n",
    "    # fix from 2D to 1D and remove NaN items\n",
    "    cos_score = np.nan_to_num(cos_score)\n",
    "    cos_score = cos_score.flatten()\n",
    "\n",
    "    # return search range\n",
    "    search_idx = np.argsort(cos_score)[::-1][:res]\n",
    "\n",
    "    ret_val = []\n",
    "\n",
    "    for i, idx in enumerate(search_idx):\n",
    "        ret_val.append([idx, all_entries2[idx], cos_score[idx] ])\n",
    "\n",
    "    return ret_val\n"
   ]
  },
  {
   "cell_type": "code",
   "execution_count": 35,
   "metadata": {},
   "outputs": [
    {
     "name": "stdout",
     "output_type": "stream",
     "text": [
      "[[np.int64(18148), 'meat really bad', np.float32(0.56592155)], [np.int64(43202), 'beachgoers come together help stranded whale', np.float32(0.5421478)], [np.int64(35410), 'whale spotted pushing dead calf day', np.float32(0.5356828)], [np.int64(5788), '145 whale wash new zealand beach', np.float32(0.52347684)], [np.int64(31765), 'baby whale freed shark net gold coast', np.float32(0.52034795)], [np.int64(14961), 'environment grieving orca mother carry dead calf day whale fight survival', np.float32(0.5184667)], [np.int64(4780), 'group 28 pilot whale successfully refloated notorious new zealand beach dozen marine mammal died week longfinned pilot whale restranded appeared finally swum sea', np.float32(0.51637363)], [np.int64(9328), 'pilot whale died southern thailand swallowing 80 plastic bag thai marine official say whale vomited five bag vain attempt conservation official save canal songkhla province', np.float32(0.5092102)], [np.int64(1279), 'whale advocate least 575 whale killed 2021 norwegian whaling season', np.float32(0.5001014)], [np.int64(38043), '300 scientist call global action protect whale dolphin threat extinction', np.float32(0.49331158)]]\n",
      "18148\n",
      "meat really bad\n",
      "\n",
      "\n",
      "43202\n",
      "beachgoers come together help stranded whale\n",
      "\n",
      "\n",
      "35410\n",
      "whale spotted pushing dead calf day\n",
      "\n",
      "\n",
      "5788\n",
      "145 whale wash new zealand beach\n",
      "\n",
      "\n",
      "31765\n",
      "baby whale freed shark net gold coast\n",
      "\n",
      "\n",
      "14961\n",
      "environment grieving orca mother carry dead calf day whale fight survival\n",
      "\n",
      "\n",
      "4780\n",
      "group 28 pilot whale successfully refloated notorious new zealand beach dozen marine mammal died week longfinned pilot whale restranded appeared finally swum sea\n",
      "\n",
      "\n",
      "9328\n",
      "pilot whale died southern thailand swallowing 80 plastic bag thai marine official say whale vomited five bag vain attempt conservation official save canal songkhla province\n",
      "\n",
      "\n",
      "1279\n",
      "whale advocate least 575 whale killed 2021 norwegian whaling season\n",
      "\n",
      "\n",
      "38043\n",
      "300 scientist call global action protect whale dolphin threat extinction\n",
      "\n",
      "\n"
     ]
    }
   ],
   "source": [
    "ran = 10\n",
    "\n",
    "bert_ret = sent_bert(all_entries, [\"whales are bad\"], ran, 'all_embed.npy')\n",
    "print(bert_ret)\n",
    "\n",
    "for i in range(ran):\n",
    "    print(bert_ret[i][0])\n",
    "    print(bert_ret[i][1])\n",
    "    print(\"\\n\")"
   ]
  },
  {
   "cell_type": "code",
   "execution_count": 33,
   "metadata": {},
   "outputs": [
    {
     "name": "stdout",
     "output_type": "stream",
     "text": [
      "[[np.int64(43202), 'beachgoers come together help stranded whale', np.float32(0.5798886)], [np.int64(35410), 'whale spotted pushing dead calf day', np.float32(0.5264813)], [np.int64(8422), 'researcher think spotted new whale specie mexico', np.float32(0.5228523)], [np.int64(5788), '145 whale wash new zealand beach', np.float32(0.52247626)], [np.int64(4780), 'group 28 pilot whale successfully refloated notorious new zealand beach dozen marine mammal died week longfinned pilot whale restranded appeared finally swum sea', np.float32(0.5170711)], [np.int64(31765), 'baby whale freed shark net gold coast', np.float32(0.5148232)], [np.int64(43157), 'new subspecies pilot whale discovered 250yearold theory proved correct', np.float32(0.5032114)], [np.int64(14961), 'environment grieving orca mother carry dead calf day whale fight survival', np.float32(0.49764165)], [np.int64(26701), 'military sonar disturbs blue whale feeding research reveals highintensity military sonar major impact feeding habit blue whale scientist concluded fiveyear project track endangered specie behaviour', np.float32(0.4958924)], [np.int64(44753), 'brazil meeting vote protect world whale population', np.float32(0.49243894)]]\n",
      "43202\n",
      "beachgoers come together help stranded whale\n",
      "\n",
      "\n",
      "35410\n",
      "whale spotted pushing dead calf day\n",
      "\n",
      "\n",
      "8422\n",
      "researcher think spotted new whale specie mexico\n",
      "\n",
      "\n",
      "5788\n",
      "145 whale wash new zealand beach\n",
      "\n",
      "\n",
      "4780\n",
      "group 28 pilot whale successfully refloated notorious new zealand beach dozen marine mammal died week longfinned pilot whale restranded appeared finally swum sea\n",
      "\n",
      "\n",
      "31765\n",
      "baby whale freed shark net gold coast\n",
      "\n",
      "\n",
      "43157\n",
      "new subspecies pilot whale discovered 250yearold theory proved correct\n",
      "\n",
      "\n",
      "14961\n",
      "environment grieving orca mother carry dead calf day whale fight survival\n",
      "\n",
      "\n",
      "26701\n",
      "military sonar disturbs blue whale feeding research reveals highintensity military sonar major impact feeding habit blue whale scientist concluded fiveyear project track endangered specie behaviour\n",
      "\n",
      "\n",
      "44753\n",
      "brazil meeting vote protect world whale population\n",
      "\n",
      "\n"
     ]
    }
   ],
   "source": [
    "ran = 10\n",
    "\n",
    "bert_ret = sent_bert(all_entries, [\"Whales are good\"], ran, 'all_embed.npy')\n",
    "print(bert_ret)\n",
    "\n",
    "for i in range(ran):\n",
    "    print(bert_ret[i][0])\n",
    "    print(bert_ret[i][1])\n",
    "    print(\"\\n\")"
   ]
  }
 ],
 "metadata": {
  "kernelspec": {
   "display_name": "Python 3",
   "language": "python",
   "name": "python3"
  },
  "language_info": {
   "codemirror_mode": {
    "name": "ipython",
    "version": 3
   },
   "file_extension": ".py",
   "mimetype": "text/x-python",
   "name": "python",
   "nbconvert_exporter": "python",
   "pygments_lexer": "ipython3",
   "version": "3.13.2"
  }
 },
 "nbformat": 4,
 "nbformat_minor": 2
}
