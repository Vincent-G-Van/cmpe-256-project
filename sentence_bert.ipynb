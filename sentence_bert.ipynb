{
 "cells": [
  {
   "cell_type": "code",
   "execution_count": 1,
   "metadata": {},
   "outputs": [],
   "source": [
    "# sentence bert or SBERT, this is a natural language processing (NLP) to create sentence embedding(s)."
   ]
  },
  {
   "cell_type": "code",
   "execution_count": 2,
   "metadata": {},
   "outputs": [
    {
     "name": "stdout",
     "output_type": "stream",
     "text": [
      "Requirement already satisfied: sentence-transformers in c:\\users\\vanvi\\appdata\\local\\programs\\python\\python313\\lib\\site-packages (3.4.1)\n",
      "Requirement already satisfied: transformers<5.0.0,>=4.41.0 in c:\\users\\vanvi\\appdata\\local\\programs\\python\\python313\\lib\\site-packages (from sentence-transformers) (4.49.0)\n",
      "Requirement already satisfied: tqdm in c:\\users\\vanvi\\appdata\\local\\programs\\python\\python313\\lib\\site-packages (from sentence-transformers) (4.67.1)\n",
      "Requirement already satisfied: torch>=1.11.0 in c:\\users\\vanvi\\appdata\\local\\programs\\python\\python313\\lib\\site-packages (from sentence-transformers) (2.6.0)\n",
      "Requirement already satisfied: scikit-learn in c:\\users\\vanvi\\appdata\\local\\programs\\python\\python313\\lib\\site-packages (from sentence-transformers) (1.6.1)\n",
      "Requirement already satisfied: scipy in c:\\users\\vanvi\\appdata\\local\\programs\\python\\python313\\lib\\site-packages (from sentence-transformers) (1.15.2)\n",
      "Requirement already satisfied: huggingface-hub>=0.20.0 in c:\\users\\vanvi\\appdata\\local\\programs\\python\\python313\\lib\\site-packages (from sentence-transformers) (0.28.1)\n",
      "Requirement already satisfied: Pillow in c:\\users\\vanvi\\appdata\\local\\programs\\python\\python313\\lib\\site-packages (from sentence-transformers) (11.1.0)\n",
      "Requirement already satisfied: filelock in c:\\users\\vanvi\\appdata\\local\\programs\\python\\python313\\lib\\site-packages (from huggingface-hub>=0.20.0->sentence-transformers) (3.17.0)\n",
      "Requirement already satisfied: fsspec>=2023.5.0 in c:\\users\\vanvi\\appdata\\local\\programs\\python\\python313\\lib\\site-packages (from huggingface-hub>=0.20.0->sentence-transformers) (2025.2.0)\n",
      "Requirement already satisfied: packaging>=20.9 in c:\\users\\vanvi\\appdata\\roaming\\python\\python313\\site-packages (from huggingface-hub>=0.20.0->sentence-transformers) (24.2)\n",
      "Requirement already satisfied: pyyaml>=5.1 in c:\\users\\vanvi\\appdata\\local\\programs\\python\\python313\\lib\\site-packages (from huggingface-hub>=0.20.0->sentence-transformers) (6.0.2)\n",
      "Requirement already satisfied: requests in c:\\users\\vanvi\\appdata\\local\\programs\\python\\python313\\lib\\site-packages (from huggingface-hub>=0.20.0->sentence-transformers) (2.32.3)\n",
      "Requirement already satisfied: typing-extensions>=3.7.4.3 in c:\\users\\vanvi\\appdata\\local\\programs\\python\\python313\\lib\\site-packages (from huggingface-hub>=0.20.0->sentence-transformers) (4.12.2)\n",
      "Requirement already satisfied: networkx in c:\\users\\vanvi\\appdata\\local\\programs\\python\\python313\\lib\\site-packages (from torch>=1.11.0->sentence-transformers) (3.4.2)\n",
      "Requirement already satisfied: jinja2 in c:\\users\\vanvi\\appdata\\local\\programs\\python\\python313\\lib\\site-packages (from torch>=1.11.0->sentence-transformers) (3.1.5)\n",
      "Requirement already satisfied: setuptools in c:\\users\\vanvi\\appdata\\local\\programs\\python\\python313\\lib\\site-packages (from torch>=1.11.0->sentence-transformers) (75.8.2)\n",
      "Requirement already satisfied: sympy==1.13.1 in c:\\users\\vanvi\\appdata\\local\\programs\\python\\python313\\lib\\site-packages (from torch>=1.11.0->sentence-transformers) (1.13.1)\n",
      "Requirement already satisfied: mpmath<1.4,>=1.1.0 in c:\\users\\vanvi\\appdata\\local\\programs\\python\\python313\\lib\\site-packages (from sympy==1.13.1->torch>=1.11.0->sentence-transformers) (1.3.0)\n",
      "Requirement already satisfied: colorama in c:\\users\\vanvi\\appdata\\roaming\\python\\python313\\site-packages (from tqdm->sentence-transformers) (0.4.6)\n",
      "Requirement already satisfied: numpy>=1.17 in c:\\users\\vanvi\\appdata\\local\\programs\\python\\python313\\lib\\site-packages (from transformers<5.0.0,>=4.41.0->sentence-transformers) (2.2.3)\n",
      "Requirement already satisfied: regex!=2019.12.17 in c:\\users\\vanvi\\appdata\\local\\programs\\python\\python313\\lib\\site-packages (from transformers<5.0.0,>=4.41.0->sentence-transformers) (2024.11.6)\n",
      "Requirement already satisfied: tokenizers<0.22,>=0.21 in c:\\users\\vanvi\\appdata\\local\\programs\\python\\python313\\lib\\site-packages (from transformers<5.0.0,>=4.41.0->sentence-transformers) (0.21.0)\n",
      "Requirement already satisfied: safetensors>=0.4.1 in c:\\users\\vanvi\\appdata\\local\\programs\\python\\python313\\lib\\site-packages (from transformers<5.0.0,>=4.41.0->sentence-transformers) (0.5.2)\n",
      "Requirement already satisfied: joblib>=1.2.0 in c:\\users\\vanvi\\appdata\\local\\programs\\python\\python313\\lib\\site-packages (from scikit-learn->sentence-transformers) (1.4.2)\n",
      "Requirement already satisfied: threadpoolctl>=3.1.0 in c:\\users\\vanvi\\appdata\\local\\programs\\python\\python313\\lib\\site-packages (from scikit-learn->sentence-transformers) (3.5.0)\n",
      "Requirement already satisfied: MarkupSafe>=2.0 in c:\\users\\vanvi\\appdata\\local\\programs\\python\\python313\\lib\\site-packages (from jinja2->torch>=1.11.0->sentence-transformers) (3.0.2)\n",
      "Requirement already satisfied: charset-normalizer<4,>=2 in c:\\users\\vanvi\\appdata\\local\\programs\\python\\python313\\lib\\site-packages (from requests->huggingface-hub>=0.20.0->sentence-transformers) (3.4.1)\n",
      "Requirement already satisfied: idna<4,>=2.5 in c:\\users\\vanvi\\appdata\\local\\programs\\python\\python313\\lib\\site-packages (from requests->huggingface-hub>=0.20.0->sentence-transformers) (3.10)\n",
      "Requirement already satisfied: urllib3<3,>=1.21.1 in c:\\users\\vanvi\\appdata\\local\\programs\\python\\python313\\lib\\site-packages (from requests->huggingface-hub>=0.20.0->sentence-transformers) (2.3.0)\n",
      "Requirement already satisfied: certifi>=2017.4.17 in c:\\users\\vanvi\\appdata\\local\\programs\\python\\python313\\lib\\site-packages (from requests->huggingface-hub>=0.20.0->sentence-transformers) (2025.1.31)\n"
     ]
    }
   ],
   "source": [
    "# install\n",
    "!pip install sentence-transformers"
   ]
  },
  {
   "cell_type": "code",
   "execution_count": 3,
   "metadata": {},
   "outputs": [
    {
     "name": "stderr",
     "output_type": "stream",
     "text": [
      "c:\\Users\\vanvi\\AppData\\Local\\Programs\\Python\\Python313\\Lib\\site-packages\\tqdm\\auto.py:21: TqdmWarning: IProgress not found. Please update jupyter and ipywidgets. See https://ipywidgets.readthedocs.io/en/stable/user_install.html\n",
      "  from .autonotebook import tqdm as notebook_tqdm\n"
     ]
    }
   ],
   "source": [
    "# import\n",
    "from sentence_transformers import SentenceTransformer, util\n",
    "import pandas as pd\n",
    "import numpy as np"
   ]
  },
  {
   "cell_type": "code",
   "execution_count": 4,
   "metadata": {},
   "outputs": [],
   "source": [
    "# load in news data\n",
    "news_data2 = pd.read_csv('sentiment_news_data2.csv')"
   ]
  },
  {
   "cell_type": "code",
   "execution_count": 5,
   "metadata": {},
   "outputs": [
    {
     "name": "stdout",
     "output_type": "stream",
     "text": [
      "43000\n",
      "north korea open sky south korean medium report\n",
      "0.0\n",
      "got fear trump threatens declassify fbi justice department file surveillance abuse clinton email probe doj slow release congress\n",
      "-0.3\n"
     ]
    }
   ],
   "source": [
    "test = True\n",
    "\n",
    "# list to store all entries\n",
    "all_entries = []\n",
    "\n",
    "# loop and add entry/entries to the list\n",
    "#for col in [f'Top{i}' for i in range(1, 26)]:\n",
    "for i in range(1, 26):\n",
    "    # get top 1 to 25\n",
    "    col  = f'Top{i}'\n",
    "    col2 = f'Sen_Top{i}'\n",
    "    col_data = news_data2[col]\n",
    "    col_data2 = news_data2[col2]\n",
    "    #for item in col_data:\n",
    "    for j in range(len(col_data)):\n",
    "        #all_entries.append([item]) \n",
    "        #all_entries.append([item, col_data2])\n",
    "        all_entries.append([col_data[j], col_data2[j]])\n",
    "\n",
    "\n",
    "if test:\n",
    "    print(len(all_entries))\n",
    "    print(all_entries[0][0])\n",
    "    print(all_entries[0][1])\n",
    "    print(all_entries[1][0])\n",
    "    print(all_entries[1][1])"
   ]
  },
  {
   "cell_type": "code",
   "execution_count": 6,
   "metadata": {},
   "outputs": [],
   "source": [
    "# may need to enable developer mode"
   ]
  },
  {
   "attachments": {
    "image.png": {
     "image/png": "[encoded data removed]"
    }
   },
   "cell_type": "markdown",
   "metadata": {},
   "source": [
    "![image.png](attachment:image.png)"
   ]
  },
  {
   "cell_type": "code",
   "execution_count": 7,
   "metadata": {},
   "outputs": [],
   "source": [
    "# setup model\n",
    "\n",
    "# this model can be used for semantic searches\n",
    "model = SentenceTransformer('all-MiniLM-L6-v2')\n",
    "all_entries2 = [str(entry[0]) for entry in all_entries]\n",
    "all_embed = model.encode(all_entries2)"
   ]
  },
  {
   "cell_type": "code",
   "execution_count": 8,
   "metadata": {},
   "outputs": [],
   "source": [
    "# save file\n",
    "\n",
    "np.save('all_embed.npy', all_embed)"
   ]
  },
  {
   "cell_type": "code",
   "execution_count": 9,
   "metadata": {},
   "outputs": [
    {
     "name": "stdout",
     "output_type": "stream",
     "text": [
      "i                 : 0\n",
      "idx               : 5296\n",
      "all_entries2[idx] : russia china trust\n",
      "cos_score[idx]    : 0.7684453\n",
      "\n",
      "\n",
      "i                 : 1\n",
      "idx               : 8515\n",
      "all_entries2[idx] : china russia forging new world order\n",
      "cos_score[idx]    : 0.69577396\n",
      "\n",
      "\n",
      "i                 : 2\n",
      "idx               : 40177\n",
      "all_entries2[idx] : china bought russia s400 missile taiwan need sam\n",
      "cos_score[idx]    : 0.64861387\n",
      "\n",
      "\n",
      "i                 : 3\n",
      "idx               : 4934\n",
      "all_entries2[idx] : serbia showcase artillery bought russia china\n",
      "cos_score[idx]    : 0.6355673\n",
      "\n",
      "\n",
      "i                 : 4\n",
      "idx               : 17973\n",
      "all_entries2[idx] : china decline join armscontrol talk u russia\n",
      "cos_score[idx]    : 0.62385446\n",
      "\n",
      "\n",
      "i                 : 5\n",
      "idx               : 29051\n",
      "all_entries2[idx] : china india buy russian oil blunting western sanction\n",
      "cos_score[idx]    : 0.621534\n",
      "\n",
      "\n",
      "i                 : 6\n",
      "idx               : 2552\n",
      "all_entries2[idx] : china russia ditch dollar move toward financial alliance\n",
      "cos_score[idx]    : 0.61576974\n",
      "\n",
      "\n",
      "i                 : 7\n",
      "idx               : 34119\n",
      "all_entries2[idx] : chinese yuan become russia new dollar\n",
      "cos_score[idx]    : 0.614565\n",
      "\n",
      "\n",
      "i                 : 8\n",
      "idx               : 10015\n",
      "all_entries2[idx] : china giving world chance buy chinese nft however chinese allowed buy\n",
      "cos_score[idx]    : 0.61100715\n",
      "\n",
      "\n",
      "i                 : 9\n",
      "idx               : 184\n",
      "all_entries2[idx] : china russia rising power asiapacific need plan\n",
      "cos_score[idx]    : 0.595513\n",
      "\n",
      "\n"
     ]
    }
   ],
   "source": [
    "# sentence for test\n",
    "one = \"China Bought Russia\"\n",
    "\n",
    "# encode new test sentence\n",
    "one_embed = model.encode(one)\n",
    "\n",
    "# use cosine\n",
    "cos_score = util.cos_sim(one_embed, all_embed)\n",
    "\n",
    "# fix from 2D to 1D and remove NaN items\n",
    "cos_score = np.nan_to_num(cos_score)\n",
    "cos_score = cos_score.flatten()\n",
    "\n",
    "# setup range\n",
    "ran = 10\n",
    "\n",
    "# return search range\n",
    "search_idx = np.argsort(cos_score)[::-1][:ran]\n",
    "\n",
    "for i, idx in enumerate(search_idx):\n",
    "    print(\"i                 : \" + str(i))\n",
    "    print(\"idx               : \" + str(idx))\n",
    "    print(\"all_entries2[idx] : \" + str(all_entries2[idx]))\n",
    "    print(\"cos_score[idx]    : \" + str(cos_score[idx]))\n",
    "    print(\"\\n\")\n"
   ]
  },
  {
   "cell_type": "code",
   "execution_count": 10,
   "metadata": {},
   "outputs": [],
   "source": [
    "# function sent_bert\n",
    "# input(s)\n",
    "#  - main   : array with multiple strings\n",
    "#  - query  : array with 1 string\n",
    "#  - res    : int\n",
    "# return(s)\n",
    "#  - array (size of res) (from highest to lowest score)\n",
    "\n",
    "# compute sentence bert score among the data samples\n",
    "def sent_bert(main, query, res, file = None):\n",
    "    # this model can be used for semantic searches\n",
    "    model = SentenceTransformer('all-MiniLM-L6-v2')\n",
    "\n",
    "    if file == None:\n",
    "        all_entries2 = [entry[0] for entry in main]\n",
    "        all_embed = model.encode(all_entries2)\n",
    "    else:\n",
    "        all_embed = np.load(file)\n",
    "        all_entries2 = [entry[0] for entry in main]\n",
    "\n",
    "    # encode new test sentence\n",
    "    one_embed = model.encode(query)\n",
    "\n",
    "    # use cosine\n",
    "    cos_score = util.cos_sim(one_embed, all_embed)\n",
    "\n",
    "    # fix from 2D to 1D and remove NaN items\n",
    "    cos_score = np.nan_to_num(cos_score)\n",
    "    cos_score = cos_score.flatten()\n",
    "\n",
    "    # return search range\n",
    "    search_idx = np.argsort(cos_score)[::-1][:res]\n",
    "\n",
    "    ret_val = []\n",
    "\n",
    "    for i, idx in enumerate(search_idx):\n",
    "        ret_val.append([idx, all_entries2[idx], cos_score[idx] ])\n",
    "\n",
    "    return ret_val\n"
   ]
  },
  {
   "cell_type": "code",
   "execution_count": 11,
   "metadata": {},
   "outputs": [
    {
     "name": "stdout",
     "output_type": "stream",
     "text": [
      "[[np.int64(16897), 'meat really bad', np.float32(0.56592155)], [np.int64(40005), 'beachgoers come together help stranded whale', np.float32(0.5421478)], [np.int64(32769), 'whale spotted pushing dead calf day', np.float32(0.5356828)], [np.int64(5371), '145 whale wash new zealand beach', np.float32(0.52347684)], [np.int64(29402), 'baby whale freed shark net gold coast', np.float32(0.52034795)], [np.int64(13849), 'environment grieving orca mother carry dead calf day whale fight survival', np.float32(0.5184667)], [np.int64(4502), 'group 28 pilot whale successfully refloated notorious new zealand beach dozen marine mammal died week longfinned pilot whale restranded appeared finally swum sea', np.float32(0.51637363)], [np.int64(8633), 'pilot whale died southern thailand swallowing 80 plastic bag thai marine official say whale vomited five bag vain attempt conservation official save canal songkhla province', np.float32(0.5092102)], [np.int64(1279), 'whale advocate least 575 whale killed 2021 norwegian whaling season', np.float32(0.5001014)], [np.int64(35263), '300 scientist call global action protect whale dolphin threat extinction', np.float32(0.49331158)]]\n",
      "16897\n",
      "meat really bad\n",
      "\n",
      "\n",
      "40005\n",
      "beachgoers come together help stranded whale\n",
      "\n",
      "\n",
      "32769\n",
      "whale spotted pushing dead calf day\n",
      "\n",
      "\n",
      "5371\n",
      "145 whale wash new zealand beach\n",
      "\n",
      "\n",
      "29402\n",
      "baby whale freed shark net gold coast\n",
      "\n",
      "\n",
      "13849\n",
      "environment grieving orca mother carry dead calf day whale fight survival\n",
      "\n",
      "\n",
      "4502\n",
      "group 28 pilot whale successfully refloated notorious new zealand beach dozen marine mammal died week longfinned pilot whale restranded appeared finally swum sea\n",
      "\n",
      "\n",
      "8633\n",
      "pilot whale died southern thailand swallowing 80 plastic bag thai marine official say whale vomited five bag vain attempt conservation official save canal songkhla province\n",
      "\n",
      "\n",
      "1279\n",
      "whale advocate least 575 whale killed 2021 norwegian whaling season\n",
      "\n",
      "\n",
      "35263\n",
      "300 scientist call global action protect whale dolphin threat extinction\n",
      "\n",
      "\n"
     ]
    }
   ],
   "source": [
    "ran = 10\n",
    "\n",
    "bert_ret = sent_bert(all_entries, [\"whales are bad\"], ran, 'all_embed.npy')\n",
    "print(bert_ret)\n",
    "\n",
    "for i in range(ran):\n",
    "    print(bert_ret[i][0])\n",
    "    print(bert_ret[i][1])\n",
    "    print(\"\\n\")"
   ]
  },
  {
   "cell_type": "code",
   "execution_count": 12,
   "metadata": {},
   "outputs": [
    {
     "name": "stdout",
     "output_type": "stream",
     "text": [
      "[[np.int64(40005), 'beachgoers come together help stranded whale', np.float32(0.5798886)], [np.int64(32769), 'whale spotted pushing dead calf day', np.float32(0.5264813)], [np.int64(7866), 'researcher think spotted new whale specie mexico', np.float32(0.5228523)], [np.int64(5371), '145 whale wash new zealand beach', np.float32(0.52247626)], [np.int64(4502), 'group 28 pilot whale successfully refloated notorious new zealand beach dozen marine mammal died week longfinned pilot whale restranded appeared finally swum sea', np.float32(0.5170711)], [np.int64(29402), 'baby whale freed shark net gold coast', np.float32(0.5148232)], [np.int64(39960), 'new subspecies pilot whale discovered 250yearold theory proved correct', np.float32(0.5032114)], [np.int64(13849), 'environment grieving orca mother carry dead calf day whale fight survival', np.float32(0.49764165)], [np.int64(24755), 'military sonar disturbs blue whale feeding research reveals highintensity military sonar major impact feeding habit blue whale scientist concluded fiveyear project track endangered specie behaviour', np.float32(0.4958924)], [np.int64(41417), 'brazil meeting vote protect world whale population', np.float32(0.49243894)]]\n",
      "40005\n",
      "beachgoers come together help stranded whale\n",
      "\n",
      "\n",
      "32769\n",
      "whale spotted pushing dead calf day\n",
      "\n",
      "\n",
      "7866\n",
      "researcher think spotted new whale specie mexico\n",
      "\n",
      "\n",
      "5371\n",
      "145 whale wash new zealand beach\n",
      "\n",
      "\n",
      "4502\n",
      "group 28 pilot whale successfully refloated notorious new zealand beach dozen marine mammal died week longfinned pilot whale restranded appeared finally swum sea\n",
      "\n",
      "\n",
      "29402\n",
      "baby whale freed shark net gold coast\n",
      "\n",
      "\n",
      "39960\n",
      "new subspecies pilot whale discovered 250yearold theory proved correct\n",
      "\n",
      "\n",
      "13849\n",
      "environment grieving orca mother carry dead calf day whale fight survival\n",
      "\n",
      "\n",
      "24755\n",
      "military sonar disturbs blue whale feeding research reveals highintensity military sonar major impact feeding habit blue whale scientist concluded fiveyear project track endangered specie behaviour\n",
      "\n",
      "\n",
      "41417\n",
      "brazil meeting vote protect world whale population\n",
      "\n",
      "\n"
     ]
    }
   ],
   "source": [
    "ran = 10\n",
    "\n",
    "bert_ret = sent_bert(all_entries, [\"Whales are good\"], ran, 'all_embed.npy')\n",
    "print(bert_ret)\n",
    "\n",
    "for i in range(ran):\n",
    "    print(bert_ret[i][0])\n",
    "    print(bert_ret[i][1])\n",
    "    print(\"\\n\")"
   ]
  },
  {
   "cell_type": "code",
   "execution_count": 13,
   "metadata": {},
   "outputs": [],
   "source": [
    "# handle imports for plots\n",
    "from sklearn.decomposition import PCA\n",
    "import matplotlib.pyplot as plt\n",
    "from mpl_toolkits.mplot3d import Axes3D"
   ]
  },
  {
   "cell_type": "code",
   "execution_count": 14,
   "metadata": {},
   "outputs": [
    {
     "data": {
      "image/png": "[encoded data removed]",
      "text/plain": [
       "<Figure size 640x480 with 1 Axes>"
      ]
     },
     "metadata": {},
     "output_type": "display_data"
    }
   ],
   "source": [
    "# generate a 2D PCA plot\n",
    "all_embed = np.load('all_embed.npy')\n",
    "pca = PCA(n_components=2)\n",
    "pca_embed = pca.fit_transform(all_embed)\n",
    "plt.scatter(pca_embed[:, 0], pca_embed[:, 1])\n",
    "plt.title('PCA Embedding')\n",
    "plt.xlabel('X')\n",
    "plt.ylabel('Y')\n",
    "plt.show()\n",
    "\n",
    "# the outlier here is the nan I believe"
   ]
  },
  {
   "cell_type": "code",
   "execution_count": 15,
   "metadata": {},
   "outputs": [
    {
     "data": {
      "image/png": "[encoded data removed]",
      "text/plain": [
       "<Figure size 640x480 with 1 Axes>"
      ]
     },
     "metadata": {},
     "output_type": "display_data"
    }
   ],
   "source": [
    "# generate a 3D PCA plot\n",
    "pca2 = PCA(n_components=3)\n",
    "pca_embed2 = pca2.fit_transform(all_embed)\n",
    "fig = plt.figure()\n",
    "ax = plt.axes(projection='3d')\n",
    "ax.scatter(pca_embed2[:, 0], pca_embed2[:, 1], pca_embed2[:, 2])\n",
    "ax.set_title('3D PCA Embedding')\n",
    "ax.set_xlabel('X')\n",
    "ax.set_ylabel('Y')\n",
    "ax.set_zlabel('Z')\n",
    "plt.show()"
   ]
  },
  {
   "cell_type": "code",
   "execution_count": 16,
   "metadata": {},
   "outputs": [
    {
     "name": "stdout",
     "output_type": "stream",
     "text": [
      "106\n",
      "nan\n"
     ]
    }
   ],
   "source": [
    "# gets centroid\n",
    "cent = np.mean(pca_embed2)\n",
    "# get distances\n",
    "dis = np.linalg.norm(pca_embed2 - cent, axis=1)\n",
    "\n",
    "# figure out outlier aka max distance\n",
    "idx = np.argmax(dis)\n",
    "print(idx)\n",
    "out = all_entries2[idx]\n",
    "print(out)"
   ]
  },
  {
   "cell_type": "code",
   "execution_count": 30,
   "metadata": {},
   "outputs": [
    {
     "name": "stdout",
     "output_type": "stream",
     "text": [
      "Collecting datasets\n",
      "  Downloading datasets-3.3.2-py3-none-any.whl.metadata (19 kB)\n",
      "Requirement already satisfied: filelock in c:\\users\\vanvi\\appdata\\local\\programs\\python\\python313\\lib\\site-packages (from datasets) (3.17.0)\n",
      "Requirement already satisfied: numpy>=1.17 in c:\\users\\vanvi\\appdata\\local\\programs\\python\\python313\\lib\\site-packages (from datasets) (2.2.3)\n",
      "Collecting pyarrow>=15.0.0 (from datasets)\n",
      "  Downloading pyarrow-19.0.1-cp313-cp313-win_amd64.whl.metadata (3.4 kB)\n",
      "Collecting dill<0.3.9,>=0.3.0 (from datasets)\n",
      "  Downloading dill-0.3.8-py3-none-any.whl.metadata (10 kB)\n",
      "Requirement already satisfied: pandas in c:\\users\\vanvi\\appdata\\local\\programs\\python\\python313\\lib\\site-packages (from datasets) (2.2.3)\n",
      "Requirement already satisfied: requests>=2.32.2 in c:\\users\\vanvi\\appdata\\local\\programs\\python\\python313\\lib\\site-packages (from datasets) (2.32.3)\n",
      "Requirement already satisfied: tqdm>=4.66.3 in c:\\users\\vanvi\\appdata\\local\\programs\\python\\python313\\lib\\site-packages (from datasets) (4.67.1)\n",
      "Collecting xxhash (from datasets)\n",
      "  Downloading xxhash-3.5.0-cp313-cp313-win_amd64.whl.metadata (13 kB)\n",
      "Collecting multiprocess<0.70.17 (from datasets)\n",
      "  Downloading multiprocess-0.70.16-py312-none-any.whl.metadata (7.2 kB)\n",
      "Collecting fsspec<=2024.12.0,>=2023.1.0 (from fsspec[http]<=2024.12.0,>=2023.1.0->datasets)\n",
      "  Downloading fsspec-2024.12.0-py3-none-any.whl.metadata (11 kB)\n",
      "Collecting aiohttp (from datasets)\n",
      "  Downloading aiohttp-3.11.13-cp313-cp313-win_amd64.whl.metadata (8.0 kB)\n",
      "Requirement already satisfied: huggingface-hub>=0.24.0 in c:\\users\\vanvi\\appdata\\local\\programs\\python\\python313\\lib\\site-packages (from datasets) (0.28.1)\n",
      "Requirement already satisfied: packaging in c:\\users\\vanvi\\appdata\\roaming\\python\\python313\\site-packages (from datasets) (24.2)\n",
      "Requirement already satisfied: pyyaml>=5.1 in c:\\users\\vanvi\\appdata\\local\\programs\\python\\python313\\lib\\site-packages (from datasets) (6.0.2)\n",
      "Collecting aiohappyeyeballs>=2.3.0 (from aiohttp->datasets)\n",
      "  Downloading aiohappyeyeballs-2.6.1-py3-none-any.whl.metadata (5.9 kB)\n",
      "Collecting aiosignal>=1.1.2 (from aiohttp->datasets)\n",
      "  Downloading aiosignal-1.3.2-py2.py3-none-any.whl.metadata (3.8 kB)\n",
      "Collecting attrs>=17.3.0 (from aiohttp->datasets)\n",
      "  Downloading attrs-25.1.0-py3-none-any.whl.metadata (10 kB)\n",
      "Collecting frozenlist>=1.1.1 (from aiohttp->datasets)\n",
      "  Downloading frozenlist-1.5.0-cp313-cp313-win_amd64.whl.metadata (14 kB)\n",
      "Collecting multidict<7.0,>=4.5 (from aiohttp->datasets)\n",
      "  Downloading multidict-6.1.0-cp313-cp313-win_amd64.whl.metadata (5.1 kB)\n",
      "Collecting propcache>=0.2.0 (from aiohttp->datasets)\n",
      "  Downloading propcache-0.3.0-cp313-cp313-win_amd64.whl.metadata (10 kB)\n",
      "Collecting yarl<2.0,>=1.17.0 (from aiohttp->datasets)\n",
      "  Downloading yarl-1.18.3-cp313-cp313-win_amd64.whl.metadata (71 kB)\n",
      "Requirement already satisfied: typing-extensions>=3.7.4.3 in c:\\users\\vanvi\\appdata\\local\\programs\\python\\python313\\lib\\site-packages (from huggingface-hub>=0.24.0->datasets) (4.12.2)\n",
      "Requirement already satisfied: charset-normalizer<4,>=2 in c:\\users\\vanvi\\appdata\\local\\programs\\python\\python313\\lib\\site-packages (from requests>=2.32.2->datasets) (3.4.1)\n",
      "Requirement already satisfied: idna<4,>=2.5 in c:\\users\\vanvi\\appdata\\local\\programs\\python\\python313\\lib\\site-packages (from requests>=2.32.2->datasets) (3.10)\n",
      "Requirement already satisfied: urllib3<3,>=1.21.1 in c:\\users\\vanvi\\appdata\\local\\programs\\python\\python313\\lib\\site-packages (from requests>=2.32.2->datasets) (2.3.0)\n",
      "Requirement already satisfied: certifi>=2017.4.17 in c:\\users\\vanvi\\appdata\\local\\programs\\python\\python313\\lib\\site-packages (from requests>=2.32.2->datasets) (2025.1.31)\n",
      "Requirement already satisfied: colorama in c:\\users\\vanvi\\appdata\\roaming\\python\\python313\\site-packages (from tqdm>=4.66.3->datasets) (0.4.6)\n",
      "Requirement already satisfied: python-dateutil>=2.8.2 in c:\\users\\vanvi\\appdata\\roaming\\python\\python313\\site-packages (from pandas->datasets) (2.9.0.post0)\n",
      "Requirement already satisfied: pytz>=2020.1 in c:\\users\\vanvi\\appdata\\local\\programs\\python\\python313\\lib\\site-packages (from pandas->datasets) (2025.1)\n",
      "Requirement already satisfied: tzdata>=2022.7 in c:\\users\\vanvi\\appdata\\local\\programs\\python\\python313\\lib\\site-packages (from pandas->datasets) (2025.1)\n",
      "Requirement already satisfied: six>=1.5 in c:\\users\\vanvi\\appdata\\roaming\\python\\python313\\site-packages (from python-dateutil>=2.8.2->pandas->datasets) (1.17.0)\n",
      "Downloading datasets-3.3.2-py3-none-any.whl (485 kB)\n",
      "Downloading dill-0.3.8-py3-none-any.whl (116 kB)\n",
      "Downloading fsspec-2024.12.0-py3-none-any.whl (183 kB)\n",
      "Downloading aiohttp-3.11.13-cp313-cp313-win_amd64.whl (436 kB)\n",
      "Downloading multiprocess-0.70.16-py312-none-any.whl (146 kB)\n",
      "Downloading pyarrow-19.0.1-cp313-cp313-win_amd64.whl (25.2 MB)\n",
      "   ---------------------------------------- 0.0/25.2 MB ? eta -:--:--\n",
      "   - -------------------------------------- 0.8/25.2 MB 3.3 MB/s eta 0:00:08\n",
      "   -- ------------------------------------- 1.8/25.2 MB 4.6 MB/s eta 0:00:06\n",
      "   ---- ----------------------------------- 3.1/25.2 MB 4.9 MB/s eta 0:00:05\n",
      "   ------- -------------------------------- 4.5/25.2 MB 5.3 MB/s eta 0:00:04\n",
      "   -------- ------------------------------- 5.2/25.2 MB 5.1 MB/s eta 0:00:04\n",
      "   ---------- ----------------------------- 6.6/25.2 MB 5.4 MB/s eta 0:00:04\n",
      "   ----------- ---------------------------- 7.1/25.2 MB 5.1 MB/s eta 0:00:04\n",
      "   ------------- -------------------------- 8.7/25.2 MB 5.2 MB/s eta 0:00:04\n",
      "   -------------- ------------------------- 9.4/25.2 MB 5.1 MB/s eta 0:00:04\n",
      "   ----------------- ---------------------- 10.7/25.2 MB 5.3 MB/s eta 0:00:03\n",
      "   ------------------- -------------------- 12.1/25.2 MB 5.3 MB/s eta 0:00:03\n",
      "   --------------------- ------------------ 13.6/25.2 MB 5.5 MB/s eta 0:00:03\n",
      "   ---------------------- ----------------- 14.2/25.2 MB 5.5 MB/s eta 0:00:03\n",
      "   ------------------------ --------------- 15.7/25.2 MB 5.4 MB/s eta 0:00:02\n",
      "   -------------------------- ------------- 16.8/25.2 MB 5.4 MB/s eta 0:00:02\n",
      "   ---------------------------- ----------- 18.1/25.2 MB 5.4 MB/s eta 0:00:02\n",
      "   ------------------------------ --------- 19.4/25.2 MB 5.5 MB/s eta 0:00:02\n",
      "   -------------------------------- ------- 20.7/25.2 MB 5.5 MB/s eta 0:00:01\n",
      "   ---------------------------------- ----- 21.8/25.2 MB 5.5 MB/s eta 0:00:01\n",
      "   ------------------------------------ --- 23.3/25.2 MB 5.5 MB/s eta 0:00:01\n",
      "   ---------------------------------------  24.6/25.2 MB 5.6 MB/s eta 0:00:01\n",
      "   ---------------------------------------  25.2/25.2 MB 5.6 MB/s eta 0:00:01\n",
      "   ---------------------------------------- 25.2/25.2 MB 5.4 MB/s eta 0:00:00\n",
      "Downloading xxhash-3.5.0-cp313-cp313-win_amd64.whl (30 kB)\n",
      "Downloading aiohappyeyeballs-2.6.1-py3-none-any.whl (15 kB)\n",
      "Downloading aiosignal-1.3.2-py2.py3-none-any.whl (7.6 kB)\n",
      "Downloading attrs-25.1.0-py3-none-any.whl (63 kB)\n",
      "Downloading frozenlist-1.5.0-cp313-cp313-win_amd64.whl (51 kB)\n",
      "Downloading multidict-6.1.0-cp313-cp313-win_amd64.whl (28 kB)\n",
      "Downloading propcache-0.3.0-cp313-cp313-win_amd64.whl (43 kB)\n",
      "Downloading yarl-1.18.3-cp313-cp313-win_amd64.whl (315 kB)\n",
      "Installing collected packages: xxhash, pyarrow, propcache, multidict, fsspec, frozenlist, dill, attrs, aiohappyeyeballs, yarl, multiprocess, aiosignal, aiohttp, datasets\n",
      "  Attempting uninstall: fsspec\n",
      "    Found existing installation: fsspec 2025.2.0\n",
      "    Uninstalling fsspec-2025.2.0:\n",
      "      Successfully uninstalled fsspec-2025.2.0\n",
      "Successfully installed aiohappyeyeballs-2.6.1 aiohttp-3.11.13 aiosignal-1.3.2 attrs-25.1.0 datasets-3.3.2 dill-0.3.8 frozenlist-1.5.0 fsspec-2024.12.0 multidict-6.1.0 multiprocess-0.70.16 propcache-0.3.0 pyarrow-19.0.1 xxhash-3.5.0 yarl-1.18.3\n"
     ]
    }
   ],
   "source": [
    "! pip install datasets"
   ]
  },
  {
   "cell_type": "code",
   "execution_count": null,
   "metadata": {},
   "outputs": [],
   "source": [
    "# handle imports for analysis\n",
    "import random\n",
    "from datasets import load_dataset"
   ]
  },
  {
   "cell_type": "code",
   "execution_count": null,
   "metadata": {},
   "outputs": [
    {
     "name": "stdout",
     "output_type": "stream",
     "text": [
      "TP: 42, TN: 37, FP: 13, FN: 8\n"
     ]
    }
   ],
   "source": [
    "# load the snli (Stanford natural language inference) training dataset\n",
    "snli_data = load_dataset('snli', split='train')\n",
    "# set dataset size of 100\n",
    "size = 100\n",
    "# set threshold for model evaluation\n",
    "threshold=0.50\n",
    "# setup some variable at 0\n",
    "TP = 0\n",
    "TN = 0\n",
    "FP = 0\n",
    "FN = 0\n",
    "\n",
    "# print(snli_data)\n",
    "# print(snli_data['premise'][0])\n",
    "# print(snli_data['hypothesis'][0])\n",
    "# print(snli_data['label'][0])\n",
    "# Dataset({\n",
    "#     features: ['premise', 'hypothesis', 'label'],\n",
    "#     num_rows: 550152\n",
    "# })\n",
    "# A person on a horse jumps over a broken down airplane.\n",
    "# A person is training his horse for a competition.\n",
    "# 1\n",
    "\n",
    "# weird, labels are marked 0 for true to entailments (basically the premise and hypothesis track logically)\n",
    "# take 50% entailment, and other 50% not entailment\n",
    "entail_samp    = [i for i in snli_data if i['label'] == 0][:size//2]\n",
    "no_entail_samp = [i for i in snli_data if i['label'] != 0][:size//2]\n",
    "total_samp = entail_samp + no_entail_samp\n",
    "\n",
    "#print(total_samp)\n",
    "#[{'premise': 'A person on a horse jumps over a broken down airplane.', 'hypothesis': 'A person is outdoors, on a horse.', 'label': 0}, ...\n",
    "\n",
    "prem  = [i['premise'] for i in total_samp]\n",
    "hypo  = [i['hypothesis'] for i in total_samp]\n",
    "truth = [] \n",
    "# loop in sample to figure out entailment or not\n",
    "for entry in total_samp:\n",
    "    # if entail, append 1\n",
    "    if entry['label'] == 0:\n",
    "        truth.append(1)\n",
    "    else:\n",
    "        # else append 0\n",
    "        truth.append(0)\n",
    "\n",
    "# setup model\n",
    "model = SentenceTransformer('all-MiniLM-L6-v2')\n",
    "prem_embed = model.encode(prem)\n",
    "hypo_embed = model.encode(hypo)\n",
    "\n",
    "# loop thorugh range to calculate TP, TN, FP, FN\n",
    "for i in range(len(prem)):\n",
    "    # calculate score\n",
    "    score = util.cos_sim(hypo_embed[i], prem_embed[i])[0][0]\n",
    "    # check if score is higher then threshold, if so prediction is true\n",
    "    if score >= threshold:\n",
    "        pred = True\n",
    "    else:\n",
    "        pred = False\n",
    "    # calculate the TP, TN, FP, FN, increment as needed\n",
    "    if pred and truth[i]:\n",
    "        TP = TP + 1\n",
    "    elif pred and not truth[i]:\n",
    "        FP = FP + 1\n",
    "    elif not pred and truth[i]:\n",
    "        FN = FN + 1\n",
    "    elif not pred and not truth[i]:\n",
    "        TN = TN + 1  \n",
    "\n",
    "print(f\"TP: {TP}, TN: {TN}, FP: {FP}, FN: {FN}\")"
   ]
  },
  {
   "cell_type": "code",
   "execution_count": 60,
   "metadata": {},
   "outputs": [
    {
     "name": "stdout",
     "output_type": "stream",
     "text": [
      "Accuracy : 0.79\n",
      "Precision: 0.7636363636363637\n",
      "Recall   : 0.84\n",
      "F1 Score : 0.8000000000000002\n"
     ]
    }
   ],
   "source": [
    "# calculate accuracy\n",
    "accu = (TP + TN) / (TP + FP + TN + FN)\n",
    "# calculate precision\n",
    "prec = TP / (TP + FP)\n",
    "# calculate recall\n",
    "recall = TP / (TP + FN)\n",
    "# calculate F1\n",
    "f1_score = 2 * (prec * recall) / (prec + recall)\n",
    "\n",
    "print(f\"Accuracy : {accu}\"    )\n",
    "print(f\"Precision: {prec}\"    )\n",
    "print(f\"Recall   : {recall}\"  )\n",
    "print(f\"F1 Score : {f1_score}\")\n"
   ]
  },
  {
   "cell_type": "code",
   "execution_count": null,
   "metadata": {},
   "outputs": [
    {
     "name": "stdout",
     "output_type": "stream",
     "text": [
      "A person on a horse jumps over a broken down airplane.\n",
      "A person is outdoors, on a horse.\n",
      "0\n"
     ]
    }
   ],
   "source": [
    "# print(snli_data['premise'][2])\n",
    "# print(snli_data['hypothesis'][2])\n",
    "# print(snli_data['label'][2])\n",
    "# A person on a horse jumps over a broken down airplane.\n",
    "# A person is outdoors, on a horse.\n",
    "# 0"
   ]
  }
 ],
 "metadata": {
  "kernelspec": {
   "display_name": "Python 3",
   "language": "python",
   "name": "python3"
  },
  "language_info": {
   "codemirror_mode": {
    "name": "ipython",
    "version": 3
   },
   "file_extension": ".py",
   "mimetype": "text/x-python",
   "name": "python",
   "nbconvert_exporter": "python",
   "pygments_lexer": "ipython3",
   "version": "3.13.2"
  }
 },
 "nbformat": 4,
 "nbformat_minor": 2
}
